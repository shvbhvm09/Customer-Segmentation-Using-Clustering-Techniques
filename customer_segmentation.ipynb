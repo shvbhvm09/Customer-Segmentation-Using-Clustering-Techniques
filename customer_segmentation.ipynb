{
  "nbformat": 4,
  "nbformat_minor": 0,
  "metadata": {
    "colab": {
      "provenance": []
    },
    "kernelspec": {
      "name": "python3",
      "display_name": "Python 3"
    },
    "language_info": {
      "name": "python"
    }
  },
  "cells": [
    {
      "cell_type": "markdown",
      "source": [
        "## Loading the data"
      ],
      "metadata": {
        "id": "V6GYh6gM4OPZ"
      }
    },
    {
      "cell_type": "code",
      "execution_count": 3,
      "metadata": {
        "colab": {
          "base_uri": "https://localhost:8080/"
        },
        "id": "87ZYEKql3Oq-",
        "outputId": "95d717aa-38f0-400a-b21c-1167499f334e"
      },
      "outputs": [
        {
          "output_type": "stream",
          "name": "stdout",
          "text": [
            "  InvoiceNo StockCode                          Description  Quantity  \\\n",
            "0    536365    85123A   WHITE HANGING HEART T-LIGHT HOLDER         6   \n",
            "1    536365     71053                  WHITE METAL LANTERN         6   \n",
            "2    536365    84406B       CREAM CUPID HEARTS COAT HANGER         8   \n",
            "3    536365    84029G  KNITTED UNION FLAG HOT WATER BOTTLE         6   \n",
            "4    536365    84029E       RED WOOLLY HOTTIE WHITE HEART.         6   \n",
            "\n",
            "          InvoiceDate  UnitPrice  CustomerID         Country  \n",
            "0 2010-12-01 08:26:00       2.55     17850.0  United Kingdom  \n",
            "1 2010-12-01 08:26:00       3.39     17850.0  United Kingdom  \n",
            "2 2010-12-01 08:26:00       2.75     17850.0  United Kingdom  \n",
            "3 2010-12-01 08:26:00       3.39     17850.0  United Kingdom  \n",
            "4 2010-12-01 08:26:00       3.39     17850.0  United Kingdom  \n"
          ]
        }
      ],
      "source": [
        "import pandas as pd\n",
        "\n",
        "# Load the dataset\n",
        "data = pd.read_excel('/content/Online Retail.xlsx')\n",
        "\n",
        "# Display the first few rows\n",
        "print(data.head())\n"
      ]
    },
    {
      "cell_type": "markdown",
      "source": [
        "## Exploring the data"
      ],
      "metadata": {
        "id": "dtkrSngm4sLe"
      }
    },
    {
      "cell_type": "code",
      "source": [
        "#checking the null values\n",
        "print(data.isnull().sum())\n"
      ],
      "metadata": {
        "colab": {
          "base_uri": "https://localhost:8080/"
        },
        "id": "wYAG_zPl4V3U",
        "outputId": "4c91d3be-3b65-4f07-b6aa-aedcbb4b549a"
      },
      "execution_count": 4,
      "outputs": [
        {
          "output_type": "stream",
          "name": "stdout",
          "text": [
            "InvoiceNo           0\n",
            "StockCode           0\n",
            "Description      1454\n",
            "Quantity            0\n",
            "InvoiceDate         0\n",
            "UnitPrice           0\n",
            "CustomerID     135080\n",
            "Country             0\n",
            "dtype: int64\n"
          ]
        }
      ]
    },
    {
      "cell_type": "markdown",
      "source": [
        "**observation**:\n",
        "\n",
        "*   Description has 1454 missing values.\n",
        "*   CustomerID has a significant number of missing values (135,080 entries are null).\n",
        "\n"
      ],
      "metadata": {
        "id": "zR0tUt524nD0"
      }
    },
    {
      "cell_type": "code",
      "source": [
        "#understand the data type\n",
        "print(data.info())\n"
      ],
      "metadata": {
        "colab": {
          "base_uri": "https://localhost:8080/"
        },
        "id": "rGhNBNxT2XM8",
        "outputId": "d9e21fbe-ad71-40db-c948-49ccaf41d771"
      },
      "execution_count": 5,
      "outputs": [
        {
          "output_type": "stream",
          "name": "stdout",
          "text": [
            "<class 'pandas.core.frame.DataFrame'>\n",
            "RangeIndex: 541909 entries, 0 to 541908\n",
            "Data columns (total 8 columns):\n",
            " #   Column       Non-Null Count   Dtype         \n",
            "---  ------       --------------   -----         \n",
            " 0   InvoiceNo    541909 non-null  object        \n",
            " 1   StockCode    541909 non-null  object        \n",
            " 2   Description  540455 non-null  object        \n",
            " 3   Quantity     541909 non-null  int64         \n",
            " 4   InvoiceDate  541909 non-null  datetime64[ns]\n",
            " 5   UnitPrice    541909 non-null  float64       \n",
            " 6   CustomerID   406829 non-null  float64       \n",
            " 7   Country      541909 non-null  object        \n",
            "dtypes: datetime64[ns](1), float64(2), int64(1), object(4)\n",
            "memory usage: 33.1+ MB\n",
            "None\n"
          ]
        }
      ]
    },
    {
      "cell_type": "markdown",
      "source": [
        "**Observations:**\n",
        "\n",
        "*   InvoiceNo, StockCode, Description, and Country are categorical.\n",
        "*   Quantity, UnitPrice, and CustomerID are numeric.\n",
        "*   InvoiceDate is of type datetime64[ns].\n",
        "\n",
        "\n"
      ],
      "metadata": {
        "id": "VJfcPUnE48tZ"
      }
    },
    {
      "cell_type": "code",
      "source": [
        "#summary statistics\n",
        "print(data.describe())\n"
      ],
      "metadata": {
        "colab": {
          "base_uri": "https://localhost:8080/"
        },
        "id": "h_XD0Cny2X2E",
        "outputId": "da39e9fb-2b6e-4970-b1ce-38a46bff88a9"
      },
      "execution_count": 6,
      "outputs": [
        {
          "output_type": "stream",
          "name": "stdout",
          "text": [
            "            Quantity                    InvoiceDate      UnitPrice  \\\n",
            "count  541909.000000                         541909  541909.000000   \n",
            "mean        9.552250  2011-07-04 13:34:57.156386048       4.611114   \n",
            "min    -80995.000000            2010-12-01 08:26:00  -11062.060000   \n",
            "25%         1.000000            2011-03-28 11:34:00       1.250000   \n",
            "50%         3.000000            2011-07-19 17:17:00       2.080000   \n",
            "75%        10.000000            2011-10-19 11:27:00       4.130000   \n",
            "max     80995.000000            2011-12-09 12:50:00   38970.000000   \n",
            "std       218.081158                            NaN      96.759853   \n",
            "\n",
            "          CustomerID  \n",
            "count  406829.000000  \n",
            "mean    15287.690570  \n",
            "min     12346.000000  \n",
            "25%     13953.000000  \n",
            "50%     15152.000000  \n",
            "75%     16791.000000  \n",
            "max     18287.000000  \n",
            "std      1713.600303  \n"
          ]
        }
      ]
    },
    {
      "cell_type": "markdown",
      "source": [
        "**Observations:**\n",
        "1. **Quantity:**\n",
        "\n",
        "*   Negative values indicate possible errors or returned items.\n",
        "*   Wide range from -80,995 to 80,995 suggests outliers.\n",
        "\n",
        "2. **UnitPrice:**\n",
        "\n",
        "*   Negative values are likely data errors.\n",
        "*   The maximum value (38,970) seems unusually high, possibly an outlier.\n",
        "\n",
        "3. **CustomerID:**\n",
        "\n",
        "*   Negative values are likely data errors.\n",
        "*   The maximum value (38,970) seems unusually high, possibly an outlier.\n",
        "\n",
        "4. **CustomerID:**\n",
        "\n",
        "*   Represents unique customers but has missing values."
      ],
      "metadata": {
        "id": "LMIW9gJ_5Ob4"
      }
    },
    {
      "cell_type": "code",
      "source": [
        "# Drop rows where CustomerID is missing\n",
        "data = data.dropna(subset=['CustomerID'])\n",
        "\n",
        "# Replace missing values in Description with \"Unknown\"\n",
        "data['Description'] = data['Description'].fillna('Unknown')\n",
        "\n",
        "# Check the result\n",
        "print(\"Remaining Missing Values:\")\n",
        "print(data.isnull().sum())"
      ],
      "metadata": {
        "colab": {
          "base_uri": "https://localhost:8080/"
        },
        "id": "zITb5-_q2YOU",
        "outputId": "8d6a4f98-96d4-4037-da95-9fccaf26206e"
      },
      "execution_count": 8,
      "outputs": [
        {
          "output_type": "stream",
          "name": "stdout",
          "text": [
            "Remaining Missing Values:\n",
            "InvoiceNo      0\n",
            "StockCode      0\n",
            "Description    0\n",
            "Quantity       0\n",
            "InvoiceDate    0\n",
            "UnitPrice      0\n",
            "CustomerID     0\n",
            "Country        0\n",
            "dtype: int64\n"
          ]
        },
        {
          "output_type": "stream",
          "name": "stderr",
          "text": [
            "<ipython-input-8-d9af6e989e80>:5: SettingWithCopyWarning: \n",
            "A value is trying to be set on a copy of a slice from a DataFrame.\n",
            "Try using .loc[row_indexer,col_indexer] = value instead\n",
            "\n",
            "See the caveats in the documentation: https://pandas.pydata.org/pandas-docs/stable/user_guide/indexing.html#returning-a-view-versus-a-copy\n",
            "  data['Description'] = data['Description'].fillna('Unknown')\n"
          ]
        }
      ]
    },
    {
      "cell_type": "code",
      "source": [],
      "metadata": {
        "id": "-AMF4eI02Yyu"
      },
      "execution_count": null,
      "outputs": []
    }
  ]
}